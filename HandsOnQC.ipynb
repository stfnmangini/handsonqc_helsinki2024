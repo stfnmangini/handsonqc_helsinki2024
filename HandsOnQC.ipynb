{
 "cells": [
  {
   "cell_type": "markdown",
   "metadata": {},
   "source": [
    "# Hands on Quantum Computing\n",
    "\n",
    "_Quantum Computing course, University of Helsinki, 2024_\n",
    "\n",
    "<a href=\"https://colab.research.google.com/github/stfnmangini/handsonqc_helsinki2024/blob/main/HandsOnQC.ipynb\" target=\"_parent\"><img src=\"https://colab.research.google.com/assets/colab-badge.svg\" alt=\"Open In Colab\"/></a>\n",
    "\n",
    "---\n",
    "\n",
    "Notebook to familiarize yourself with practical quantum computing and quantum software. \n",
    "\n",
    "**List of contents:**\n",
    "1. Coding environment setup (python, notebooks, colab, qiskit, ...)  \n",
    "\n",
    "2. Building quantum circuits  \n",
    "3. Statevectors from quantum circuits  \n",
    "4. Bloch sphere representation of a qubit  \n",
    "5. Multi-qubit states and qiskit's ordering convetion\n",
    "6. Executing a quantum circuit on a simulator\n",
    "7. Executing a quantum circuit on real quantum hardware by IBM  \n",
    "8. Ideal vs. noisy results\n",
    "9. Noise and expectation values\n",
    "10. Full example, a single-qubit VQE.\n",
    "\n",
    "---\n",
    "\n",
    "**...let's get started!**"
   ]
  },
  {
   "cell_type": "markdown",
   "metadata": {},
   "source": [
    "# 1. Installing required packages \n",
    "\n",
    "Let's start by installing the necessary packages in the current environment"
   ]
  },
  {
   "cell_type": "code",
   "execution_count": null,
   "metadata": {},
   "outputs": [],
   "source": [
    "# %pip install qiskit qiskit-aer qiskit-ibm-runtime \n",
    "# %pip install matplotlib pylatexenc\n",
    "# %pip install pennylane"
   ]
  },
  {
   "cell_type": "code",
   "execution_count": null,
   "metadata": {},
   "outputs": [],
   "source": [
    "# Import generic libraries\n",
    "import numpy as np\n",
    "import matplotlib as mpl\n",
    "import matplotlib.pyplot as plt\n",
    "\n",
    "# Import quantum-info library\n",
    "import qiskit as qk"
   ]
  },
  {
   "cell_type": "markdown",
   "metadata": {},
   "source": [
    "# 2. Create and familiarize with qiskit's quantum circuits\n",
    "\n",
    "#### Recap of useful quantum-info facts\n",
    "\n",
    "A qubit is a two-level quantum mechanical system whose state can be described by the so-called _statevector_:\n",
    "$$|\\psi\\rangle = \\alpha|0\\rangle + \\beta|1\\rangle \\quad \\text{with}\\quad |\\alpha|^2 + |\\beta|^2 = 1$$\n",
    "\n",
    "List of common single and two-qubit gates:\n",
    "\n",
    "<img src=\"imgs/single_qubit_gates.png\" width = \"750px\"/>\n",
    "<div>\n",
    "<img src=\"imgs/two_qubit_gates.png\" width= \"750px\"/>"
   ]
  },
  {
   "cell_type": "code",
   "execution_count": null,
   "metadata": {},
   "outputs": [],
   "source": [
    "# Create a quantum circuit with 1 qubit\n",
    "num_qubits = 1\n",
    "qc = qk.QuantumCircuit(num_qubits)\n",
    "\n",
    "# Draw a graphical representation of the circuit (using matplotlib)\n",
    "print(qc) # qc.draw(output='mpl')"
   ]
  },
  {
   "cell_type": "code",
   "execution_count": null,
   "metadata": {},
   "outputs": [],
   "source": [
    "# Start same as before, but with adding more gates\n",
    "num_qubits = 1\n",
    "qc = qk.QuantumCircuit(num_qubits)\n",
    "\n",
    "# Add a Hadamard gate\n",
    "qc.h(0)\n",
    "\n",
    "# add other gates...\n",
    "\n",
    "# add a measurement gate...\n",
    "\n",
    "# Draw a graphical representation of the circuit (using matplotlib)\n",
    "print(qc) # qc.draw(output='mpl')"
   ]
  },
  {
   "cell_type": "markdown",
   "metadata": {},
   "source": [
    "#### More qubits, more fun"
   ]
  },
  {
   "cell_type": "code",
   "execution_count": null,
   "metadata": {},
   "outputs": [],
   "source": [
    "# Start same as before, but with more qubits\n",
    "num_qubits = 4\n",
    "qc = qk.QuantumCircuit(num_qubits)\n",
    "\n",
    "# Add a layer of single qubit gates\n",
    "for n in range(num_qubits):\n",
    "    qc.h(n)\n",
    "\n",
    "# Add a layer of entangling gates\n",
    "control_qubit_index = 0\n",
    "target_qubit_index = 1\n",
    "qc.cx(control_qubit_index, target_qubit_index)\n",
    "\n",
    "# Draw a graphical representation of the circuit (using matplotlib)\n",
    "qc.draw(output='mpl')"
   ]
  },
  {
   "cell_type": "markdown",
   "metadata": {},
   "source": [
    "# 3. Let's get the statevectors\n",
    "\n",
    "Useful reminder: the state of a single-qubit system is described by a pair of complex numbers\n",
    "\n",
    "$$|\\psi\\rangle = c_0 |0\\rangle + c_1 |1\\rangle \\longrightarrow [c_0,\\, c_1]$$"
   ]
  },
  {
   "cell_type": "code",
   "execution_count": null,
   "metadata": {},
   "outputs": [],
   "source": [
    "from qiskit.quantum_info import Statevector\n",
    "? Statevector"
   ]
  },
  {
   "cell_type": "code",
   "execution_count": null,
   "metadata": {},
   "outputs": [],
   "source": [
    "qc = qk.QuantumCircuit(1)\n",
    "\n",
    "# add gates...\n",
    "\n",
    "# Let qiskit compute the statevector of corresponding to the quantum circuit\n",
    "psi = Statevector(qc)\n",
    "print(\"|psi> = \", psi.data)"
   ]
  },
  {
   "cell_type": "markdown",
   "metadata": {},
   "source": [
    "# 4. Boch sphere representation of a qubit"
   ]
  },
  {
   "cell_type": "code",
   "execution_count": null,
   "metadata": {},
   "outputs": [],
   "source": [
    "from qiskit.visualization import plot_bloch_multivector\n",
    "\n",
    "# Create a quantum circuit with 1 qubit and apply a gate\n",
    "qc = qk.QuantumCircuit(1)\n",
    "qc.x(0)\n",
    "\n",
    "# Plot its representation in the bloch sphere\n",
    "plot_bloch_multivector(qc)"
   ]
  },
  {
   "cell_type": "code",
   "execution_count": null,
   "metadata": {},
   "outputs": [],
   "source": [
    "def bloch_vector(state):\n",
    "    \"\"\"\n",
    "    Calculate components in Bloch Sphere given a quantm state (a ket |psi>) \n",
    "    \"\"\"\n",
    "    I = np.array([[1, 0], [0, 1]])\n",
    "    X = np.array([[0, 1], [1, 0]])\n",
    "    Y = np.array([[0, -1j], [1j, 0]])\n",
    "    Z = np.array([[1, 0], [0, -1]])\n",
    "\n",
    "    rho = np.outer(state, np.conjugate(state))\n",
    "    rx = np.trace(np.dot(rho, X)).real\n",
    "    ry = np.trace(np.dot(rho, Y)).real\n",
    "    rz = np.trace(np.dot(rho, Z)).real\n",
    "    return rx, ry, rz\n",
    "\n",
    "def plot_state(states, ax = None):\n",
    "    \"\"\"\n",
    "    Plot single qubit quantum states on the bloch sphere.\n",
    "    \"\"\"\n",
    "    from qiskit.visualization import plot_bloch_vector\n",
    "\n",
    "    states = np.array(states)\n",
    "    \n",
    "    if ax == None:\n",
    "        fig = plt.figure(figsize=(9.6, 6))\n",
    "        ax = plt.subplot(projection='3d')\n",
    "\n",
    "    plot_bloch_vector([0, 0, 0], ax=ax)\n",
    "\n",
    "    if states.ndim == 1:\n",
    "        states = np.expand_dims(states, 0)\n",
    "\n",
    "    cmap = plt.cm.viridis.resampled(len(states))\n",
    "\n",
    "    for i, state in enumerate(states):\n",
    "        x, y, z = bloch_vector(state)\n",
    "        ax.plot(y, -x, z, marker='o', color=cmap(i), markersize=10, alpha=1.)\n",
    "    return ax"
   ]
  },
  {
   "cell_type": "code",
   "execution_count": null,
   "metadata": {},
   "outputs": [],
   "source": [
    "# Visualizing rotations along the Pauli axis\n",
    "theta = np.linspace(0, np.pi, 10)\n",
    "\n",
    "state_list = []\n",
    "for t in theta:\n",
    "    qc = qk.QuantumCircuit(1)\n",
    "    qc.rx(t, 0)\n",
    "    state_list.append(Statevector(qc).data)    \n",
    "\n",
    "plot_state(state_list)"
   ]
  },
  {
   "cell_type": "markdown",
   "metadata": {},
   "source": [
    "# 5. Statevectors of multi-qubit systems"
   ]
  },
  {
   "cell_type": "code",
   "execution_count": null,
   "metadata": {},
   "outputs": [],
   "source": [
    "qc = qk.QuantumCircuit(2)\n",
    "psi = Statevector(qc)\n",
    "psi"
   ]
  },
  {
   "cell_type": "code",
   "execution_count": null,
   "metadata": {},
   "outputs": [],
   "source": [
    "qc = qk.QuantumCircuit(2)\n",
    "psi0 = Statevector(qc)\n",
    "print(\"Initial state: |0> ⊗ |0>  = \", psi0.data)\n",
    "\n",
    "qc.x(0)\n",
    "psi = Statevector(qc)\n",
    "print(\"Final state:  X|0> ⊗ I|0> = \", psi.data)"
   ]
  },
  {
   "cell_type": "markdown",
   "metadata": {},
   "source": [
    "_Mind qiskit's ordering!_\n",
    "\n",
    "When we have two qubits, a generic state is defined as\n",
    "$$ \n",
    "\\begin{align} \n",
    "|\\psi\\rangle & = c_0 |0\\rangle_{q_0}|0\\rangle_{q_1} + c_1 |0\\rangle_{q_0}|1\\rangle_{q_1} + c_2 |1\\rangle_{q_0}|0\\rangle_{q_1} + c_3 |1\\rangle_{q_0}|1\\rangle_{q_1} \\\\\n",
    "& = c_0 |00\\rangle + c_1 |01\\rangle + c_2 |10\\rangle + c_3 |11\\rangle \\\\\n",
    "& = c_0 \\begin{bmatrix} 1 \\\\ 0 \\\\ 0 \\\\ 0 \\end{bmatrix} + c_0 \\begin{bmatrix} 0 \\\\ 1 \\\\ 0 \\\\ 0 \\end{bmatrix} + c_0 \\begin{bmatrix} 0 \\\\ 0 \\\\ 1 \\\\ 0 \\end{bmatrix} + c_0 \\begin{bmatrix} 0 \\\\ 0 \\\\ 0 \\\\ 1 \\end{bmatrix} = [c_0,\\, c_1,\\, c_2,\\, c_3]\n",
    "\\end{align}\n",
    "$$\n",
    "\n",
    "Starting from the initial ground state, the circuit implements\n",
    "$$|\\psi\\rangle = |0\\rangle_{q_0}|0\\rangle_{q_1} = |0\\rangle_{q_0} \\otimes |0\\rangle_{q_1} \\xrightarrow[X \\otimes \\mathbb{I}]{\\text{Evolve with gates}} |\\psi'\\rangle = X|0\\rangle_{q_0}\\otimes \\mathbb{I}|0\\rangle_{q_1} = |1\\rangle_{q_0}|0\\rangle_{q_1}$$\n",
    "\n",
    "so, in coefficients we would have $$|\\psi\\rangle = [1,\\,0,\\,0,\\,0] \\longrightarrow |\\psi'\\rangle = [0,\\, 0,\\, 1,\\, 0]$$\n",
    "\n",
    "But qiskit orders qubit indices differently, in reversed (_\"little-endian\"_) order, that is \n",
    "$$ |\\psi\\rangle_{\\text{qiskit}} = c_0 |0\\rangle_{q_1}|0\\rangle_{q_0} + c_1 |0\\rangle_{q_1}|1\\rangle_{q_0} + c_2 |1\\rangle_{q_1}|0\\rangle_{q_0} + c_3 |1\\rangle_{q_1}|1\\rangle_{q_0} $$\n",
    "\n",
    "so the circuit acts as\n",
    "$$|0_{q_1}0_{q_0}\\rangle \\longrightarrow \\mathbb{I} |0\\rangle_{q_1} \\otimes \\mathbb{X}|0\\rangle_{q_0} = |0_{q_1}1_{q_0}\\rangle$$\n",
    "\n",
    "hence the final state is given by\n",
    "$$|\\psi\\rangle_{\\text{qiskit}} = [1,\\,0,\\,0,\\,0] \\longrightarrow |\\psi'\\rangle_{\\text{qiskit}} = [0,\\, 1,\\, 0,\\, 0]$$\n"
   ]
  },
  {
   "cell_type": "markdown",
   "metadata": {},
   "source": [
    "# 6. Finally running a quantum circuit"
   ]
  },
  {
   "cell_type": "code",
   "execution_count": null,
   "metadata": {},
   "outputs": [],
   "source": [
    "# Impprt the AerSimulator backend from qiskit\n",
    "from qiskit_aer import AerSimulator\n",
    "sim_bknd = AerSimulator()\n",
    "\n",
    "# Define a quantum circuit with 2 qubits and a measurement gate\n",
    "qc = qk.QuantumCircuit(2)\n",
    "qc.measure_all()\n",
    "\n",
    "# Run the circuit on the AerSimulator backend anf get the results\n",
    "num_shots = 1\n",
    "res = sim_bknd.run(qc, shots = 1).result()\n",
    "\n",
    "# Print the results\n",
    "print(\"Measurement outcomes\\n\", res.get_counts())\n",
    "\n",
    "qc.draw(output='mpl')"
   ]
  },
  {
   "cell_type": "code",
   "execution_count": null,
   "metadata": {},
   "outputs": [],
   "source": [
    "? sim_bknd.run"
   ]
  },
  {
   "cell_type": "markdown",
   "metadata": {},
   "source": [
    "# 7. Running on an actual quantum deivce (sort-of)"
   ]
  },
  {
   "cell_type": "code",
   "execution_count": null,
   "metadata": {},
   "outputs": [],
   "source": [
    "from qiskit import transpile\n",
    "from qiskit_ibm_runtime import QiskitRuntimeService\n",
    "\n",
    "# You have to be logged in to IBM Quantum to run on real hardware.\n",
    "# You can do this by registering on IBMQ and running the following commands\n",
    "# ibm_quantum_service = QiskitRuntimeService(channel=\"ibm_quantum\", token=\"MY_IBM_QUANTUM_TOKEN\")\n",
    "# QiskitRuntimeService.save_account(channel=\"ibm_quantum\", token=\"MY_IBM_QUANTUM_TOKEN\")\n",
    "\n",
    "# Once you have done it, you can run the following code\n",
    "service = QiskitRuntimeService()\n",
    "bknd_list = service.backends()\n",
    "bknd_list"
   ]
  },
  {
   "cell_type": "code",
   "execution_count": null,
   "metadata": {},
   "outputs": [],
   "source": [
    "# Pick the least busy \"real\" backend\n",
    "bknd = service.least_busy(simulator=False, operational=True)\n",
    "bknd.name"
   ]
  },
  {
   "cell_type": "code",
   "execution_count": null,
   "metadata": {},
   "outputs": [],
   "source": [
    "from qiskit.visualization import plot_gate_map, plot_error_map, plot_circuit_layout\n",
    "\n",
    "plot_gate_map(service.get_backend('ibm_osaka'),\n",
    "              figsize=(10, 10), \n",
    "              font_size=20, \n",
    "              line_width=2, \n",
    "              qubit_size=50,\n",
    "              line_color = ['black'] * len(bknd.coupling_map.get_edges()),\n",
    "              qubit_color = [mpl.colors.to_hex(c) for c in plt.cm.viridis_r(np.linspace(0, 1, bknd.num_qubits))])"
   ]
  },
  {
   "cell_type": "code",
   "execution_count": null,
   "metadata": {},
   "outputs": [],
   "source": [
    "# Define a quantum circuit with 5 qubits and a measurement gate\n",
    "qc = qk.QuantumCircuit(5)\n",
    "qc.measure_all()\n",
    "print(qc)\n",
    "\n",
    "# Run the circuit on the real quantum hardware\n",
    "# simple_run = bknd.run(qc, shots=1000)\n",
    "# print(f\">>> Job ID: {simple_run.job_id()}\")\n",
    "# print(f\">>> Job Status: {simple_run.status()}\")"
   ]
  },
  {
   "cell_type": "code",
   "execution_count": null,
   "metadata": {},
   "outputs": [],
   "source": [
    "# This is the new and correct way of running on real hardware\n",
    "from qiskit_ibm_runtime import SamplerV2 as Sampler\n",
    "from qiskit.transpiler.preset_passmanagers import generate_preset_pass_manager\n",
    "\n",
    "# Preprocess the circuit so that it is compatible with the backend\n",
    "pm = generate_preset_pass_manager(optimization_level=0, backend=bknd)\n",
    "# Obtain the Instruction Set Architecture (ISA) circuit\n",
    "isa_circuit = pm.run(qc)\n",
    "\n",
    "# Use the Sampler class to run the experiment\n",
    "sampler = Sampler(backend=bknd)\n",
    "# job = sampler.run([isa_circuit], shots=1000)\n",
    "# print(f\">>> Job ID: {job.job_id()}\")\n",
    "# print(f\">>> Job Status: {job.status()}\")\n",
    "\n",
    "# Get the counts with (0 because we only have one circuit)\n",
    "# counts = job.result()[0].get_counts()\n",
    "# counts"
   ]
  },
  {
   "cell_type": "code",
   "execution_count": null,
   "metadata": {},
   "outputs": [],
   "source": [
    "# Retrieve the results from a previous job\n",
    "real_results = service.job('cs151tzyhpyg008agnsg')\n",
    "\n",
    "# Print the backend used\n",
    "print(real_results.backend())\n",
    "\n",
    "# Print the data of the job\n",
    "for k, v in real_results.metrics().items():\n",
    "    print(f\"{k}: {v}\")\n",
    "\n",
    "# Print the quantum circuit used\n",
    "real_results.inputs['circuits'][0].draw(output='mpl')"
   ]
  },
  {
   "cell_type": "code",
   "execution_count": null,
   "metadata": {},
   "outputs": [],
   "source": [
    "real_counts = real_results.result().get_counts()\n",
    "real_counts"
   ]
  },
  {
   "cell_type": "code",
   "execution_count": null,
   "metadata": {},
   "outputs": [],
   "source": [
    "sim_bknd = AerSimulator()\n",
    "sim_counts = sim_bknd.run(qc, shots=1000).result().get_counts()\n",
    "sim_counts"
   ]
  },
  {
   "cell_type": "code",
   "execution_count": null,
   "metadata": {},
   "outputs": [],
   "source": [
    "# Define a fake simulator backend with the same properties as the real backend\n",
    "fake_qc = AerSimulator().from_backend(real_results.backend())\n",
    "fake_counts = fake_qc.run(qc, shots=1000).result().get_counts()"
   ]
  },
  {
   "cell_type": "code",
   "execution_count": null,
   "metadata": {},
   "outputs": [],
   "source": [
    "from qiskit.visualization import plot_histogram\n",
    "plot_histogram([sim_counts, fake_counts, real_counts], \n",
    "               legend=['Simulator', 'Fake QC', 'Real QC'])"
   ]
  },
  {
   "cell_type": "markdown",
   "metadata": {},
   "source": [
    "#### Same, but different: using entangled states"
   ]
  },
  {
   "cell_type": "code",
   "execution_count": null,
   "metadata": {},
   "outputs": [],
   "source": [
    "qc_ghz = qk.QuantumCircuit(5)\n",
    "\n",
    "qc_ghz.h(0)\n",
    "for i in range(0, 4):\n",
    "    qc_ghz.cx(i, i+1)\n",
    "\n",
    "qc_ghz.measure_all()\n",
    "qc_ghz.draw(output='mpl')"
   ]
  },
  {
   "cell_type": "code",
   "execution_count": null,
   "metadata": {},
   "outputs": [],
   "source": [
    "qc_ghz_transpiled = qk.transpile(qc_ghz, backend=bknd)\n",
    "qc_ghz_transpiled.draw(output='mpl')"
   ]
  },
  {
   "cell_type": "code",
   "execution_count": null,
   "metadata": {},
   "outputs": [],
   "source": [
    "plot_circuit_layout(qc_ghz_transpiled, bknd)"
   ]
  },
  {
   "cell_type": "code",
   "execution_count": null,
   "metadata": {},
   "outputs": [],
   "source": [
    "# Retrieve previously run job with GHZ\n",
    "ghz_run = service.job('cs17p89kfpw00080d2zg')\n",
    "ghz_run.status()\n",
    "real_ghz_counts = ghz_run.result().get_counts()\n",
    "\n",
    "# Simulate ideal experiment with GHZ\n",
    "sim_ghz_counts = sim_bknd.run(qc_ghz, shots=1000).result().get_counts()\n",
    "plot_histogram([real_ghz_counts, sim_ghz_counts],\n",
    "               legend=['Real QC', 'Simulator'])"
   ]
  },
  {
   "cell_type": "markdown",
   "metadata": {},
   "source": [
    "# 9. Let's go noisy, with a detour on expectation values"
   ]
  },
  {
   "cell_type": "code",
   "execution_count": null,
   "metadata": {},
   "outputs": [],
   "source": [
    "qc = qk.QuantumCircuit(1)\n",
    "qc.x(0)\n",
    "\n",
    "# ...what if there is an additional error rotation\n",
    "\n",
    "plot_state(Statevector(qc).data)"
   ]
  },
  {
   "cell_type": "markdown",
   "metadata": {},
   "source": [
    "#### One does ~~not~~ simply compute expectation values"
   ]
  },
  {
   "cell_type": "markdown",
   "metadata": {},
   "source": [
    "$$Z = \\begin{bmatrix} 1 & 0 \\\\ 0 & 1 \\end{bmatrix} = |0\\rangle\\!\\langle 0| - |1\\rangle\\!\\langle1|$$\n",
    "\n",
    "$$\\langle Z \\rangle = \\text{Tr}[Z\\,\\rho] = 1 \\times \\text{Tr}[\\rho\\, |0\\rangle\\!\\langle 0|] - 1 \\times \\text{Tr}[\\rho\\, |1\\rangle\\!\\langle1|] = 1 \\times p_0 -1 \\times p_1"
   ]
  },
  {
   "cell_type": "code",
   "execution_count": null,
   "metadata": {},
   "outputs": [],
   "source": [
    "def expval_from_counts(outcomes_dict):\n",
    "    exp_val = 0\n",
    "    for outcome, counts in outcomes_dict.items():\n",
    "        val = 1 if outcome == '0' else -1\n",
    "        exp_val += val * counts\n",
    "    num_shots = sum(outcomes_dict.values())\n",
    "    return exp_val / num_shots\n",
    "\n",
    "qc = qk.QuantumCircuit(1)\n",
    "qc.rx(0.3, 0)\n",
    "qc.measure_all()\n",
    "\n",
    "res = sim_bknd.run(qc, shots=1000).result()\n",
    "counts = res.get_counts()\n",
    "\n",
    "print(\"Measurement outcomes:\", counts)\n",
    "print(\"<Z> = 1 * Freq(0) - 1 * Freq(1) =\", expval_from_counts(counts))\n",
    "\n",
    "qc.remove_final_measurements()\n",
    "plot_state(Statevector(qc).data);"
   ]
  },
  {
   "cell_type": "code",
   "execution_count": null,
   "metadata": {},
   "outputs": [],
   "source": [
    "# Same way, but using qiskit functions\n",
    "from qiskit.quantum_info import Pauli\n",
    "\n",
    "qc = qk.QuantumCircuit(1)\n",
    "qc.rx(0.3, 0)\n",
    "pauliZ = Pauli('Z')\n",
    "qk_expval = Statevector(qc).expectation_value(pauliZ)\n",
    "print(\"Qiskit expectation value: \", qk_expval)"
   ]
  },
  {
   "cell_type": "markdown",
   "metadata": {},
   "source": [
    "#### Computing X and Y expectation values by change of basis"
   ]
  },
  {
   "cell_type": "markdown",
   "metadata": {},
   "source": [
    "$$ X = H~Z~H $$\n",
    "$$ Y = (S H)~Z~(H S^\\dagger)"
   ]
  },
  {
   "cell_type": "code",
   "execution_count": null,
   "metadata": {},
   "outputs": [],
   "source": [
    "qc = qk.QuantumCircuit(1)\n",
    "qc.rx(0., 0)\n",
    "\n",
    "# Define a circuit including a change of basis circuit\n",
    "qc_meas = qc.copy()\n",
    "measure = 'Z'\n",
    "match measure:\n",
    "    case 'Z':\n",
    "        pass\n",
    "    case 'X':\n",
    "        qc_meas.h(0)\n",
    "    case 'Y':\n",
    "        qc_meas.sdg(0)\n",
    "        qc_meas.h(0)\n",
    "\n",
    "# Measure in the X basis\n",
    "qc_meas.measure_all()\n",
    "\n",
    "counts = sim_bknd.run(qc_meas, shots=1000).result().get_counts()\n",
    "print(\"Measurement outcomes:\", counts)\n",
    "print(\"<Z> = 1 * Freq(0) - 1 * Freq(1) =\", expval_from_counts(counts))\n",
    "\n",
    "plot_state(Statevector(qc).data);"
   ]
  },
  {
   "cell_type": "markdown",
   "metadata": {},
   "source": [
    "#### Back to noise!\n",
    "\n",
    "Let's assume that every $X$ gate is faulty, that is we experimentally implement\n",
    "\n",
    "$$X \\longrightarrow X_{\\text{noisy}} =  R_{X}(\\varepsilon) X $$"
   ]
  },
  {
   "cell_type": "code",
   "execution_count": null,
   "metadata": {},
   "outputs": [],
   "source": [
    "from qiskit_aer.noise import NoiseModel, coherent_unitary_error\n",
    "\n",
    "def pauliX_rotation(theta):\n",
    "    \"\"\"Function that returns the unitary for a Pauli-X rotation gate\"\"\"\n",
    "    op = np.array([[np.cos(theta/2), -1j*np.sin(theta/2)], \n",
    "                   [-1j*np.sin(theta/2), np.cos(theta/2)]]) \n",
    "    return op\n",
    "\n",
    "eps = 0.05\n",
    "error = coherent_unitary_error(pauliX_rotation(eps))"
   ]
  },
  {
   "cell_type": "code",
   "execution_count": null,
   "metadata": {},
   "outputs": [],
   "source": [
    "noise_model = NoiseModel()\n",
    "noise_model.add_all_qubit_quantum_error(error, ['u1', 'u2', 'u3'])\n",
    "print(noise_model)"
   ]
  },
  {
   "cell_type": "code",
   "execution_count": null,
   "metadata": {},
   "outputs": [],
   "source": [
    "noisy_bknd = AerSimulator(noise_model=noise_model)\n",
    "\n",
    "qc = qk.QuantumCircuit(1)\n",
    "qc.x(0)\n",
    "qc.measure_all()\n",
    "\n",
    "qc_transpiled = qk.transpile(qc, backend=noisy_bknd)\n",
    "\n",
    "counts = noisy_bknd.run(qc_transpiled, shots = 10000).result().get_counts()\n",
    "print(\"Measurement outcomes:\", counts)\n",
    "expval = expval_from_counts(counts)\n",
    "print(\"Expectation value:\", expval)\n",
    "\n",
    "qc_transpiled.draw(output='mpl')"
   ]
  },
  {
   "cell_type": "markdown",
   "metadata": {},
   "source": [
    "**What if we have more gates?**"
   ]
  },
  {
   "cell_type": "code",
   "execution_count": null,
   "metadata": {},
   "outputs": [],
   "source": [
    "qc_list = []\n",
    "expval_list = []\n",
    "for d in range(100):\n",
    "    qc = qk.QuantumCircuit(1)\n",
    "    for _ in range(d):\n",
    "        qc.x(0)\n",
    "        qc.x(0)\n",
    "    qc.measure_all()\n",
    "\n",
    "    qc_transpiled = qk.transpile(qc, backend=noisy_bknd, optimization_level=0)\n",
    "    counts = noisy_bknd.run(qc_transpiled, shots = 1000).result().get_counts()\n",
    "    expval = expval_from_counts(counts)\n",
    "\n",
    "    qc_list.append(qc_transpiled)\n",
    "    expval_list.append(expval)\n",
    "\n",
    "qc_list[2].draw(output='mpl')"
   ]
  },
  {
   "cell_type": "code",
   "execution_count": null,
   "metadata": {},
   "outputs": [],
   "source": [
    "plt.plot(expval_list, marker='o', ms = 4, mec = 'k', ls = '--', label = \"Noisy\")\n",
    "plt.hlines(1, 0, len(expval_list), color='g', ls='-.', label = \"Ideal\")\n",
    "\n",
    "plt.legend()\n",
    "plt.xlabel('Number of XX = Id gates')\n",
    "plt.ylabel(r'Expectation value $\\langle{Z}\\rangle$')"
   ]
  },
  {
   "cell_type": "markdown",
   "metadata": {},
   "source": [
    "#### Let's put it all together"
   ]
  },
  {
   "cell_type": "code",
   "execution_count": null,
   "metadata": {},
   "outputs": [],
   "source": [
    "def run_noisy_exp(eps):\n",
    "    \"\"\"\n",
    "    \"\"\"\n",
    "    print(\"Running experiments with epsilon =\", eps)\n",
    "\n",
    "    # Define the error model and create noisy backend\n",
    "    error = coherent_unitary_error(pauliX_rotation(eps))\n",
    "    noise_model = NoiseModel()\n",
    "    noise_model.add_all_qubit_quantum_error(error, ['u1', 'u2', 'u3'])\n",
    "    noisy_bknd = AerSimulator(noise_model=noise_model)\n",
    "\n",
    "    # Run the experiments for different depths\n",
    "    qc_list = []\n",
    "    expval_list = []\n",
    "    for depth in range(100):\n",
    "        qc = qk.QuantumCircuit(1)\n",
    "        for d in range(depth):\n",
    "            qc.x(0)\n",
    "            qc.x(0)\n",
    "        qc.measure_all()\n",
    "\n",
    "        qc_transpiled = qk.transpile(qc, backend=noisy_bknd, optimization_level=0)\n",
    "        counts = noisy_bknd.run(qc_transpiled, shots = 1000).result().get_counts()\n",
    "        expval = expval_from_counts(counts)\n",
    "\n",
    "        qc_list.append(qc_transpiled)\n",
    "        expval_list.append(expval)\n",
    "\n",
    "    return expval_list"
   ]
  },
  {
   "cell_type": "code",
   "execution_count": null,
   "metadata": {},
   "outputs": [],
   "source": [
    "error_levels = [0, 0.01, 0.05, 0.1]\n",
    "res = [run_noisy_exp(e) for e in error_levels]\n",
    "\n",
    "colors = plt.cm.Set1((0,1,2,3))\n",
    "for x, e, c in zip(res, error_levels, colors):\n",
    "    plt.plot(x, label = fr'$\\epsilon = {e}$', marker='o', ms = 4, mec = 'k', ls = '--', c=c)\n",
    "\n",
    "plt.xlabel('Number of XX = Id gates')\n",
    "plt.ylabel(r'Expectation value $\\langle{Z}\\rangle$')\n",
    "plt.legend()"
   ]
  },
  {
   "cell_type": "markdown",
   "metadata": {},
   "source": [
    "#### Incoherent noise model"
   ]
  },
  {
   "cell_type": "code",
   "execution_count": null,
   "metadata": {},
   "outputs": [],
   "source": [
    "from qiskit_aer.noise import NoiseModel, depolarizing_error\n",
    "\n",
    "qc = qk.QuantumCircuit(4)\n",
    "qc.cx(0,1)\n",
    "qc.cx(2,3)\n",
    "qc.measure_all()\n",
    "qc.draw(output='mpl')"
   ]
  },
  {
   "cell_type": "code",
   "execution_count": null,
   "metadata": {},
   "outputs": [],
   "source": [
    "error = depolarizing_error(0.1, 2)\n",
    "\n",
    "noise_model = NoiseModel()\n",
    "noise_model.add_quantum_error(error, ['cx'], [0, 1])\n",
    "noise_model.add_quantum_error(error, ['cx'], [2, 3])\n",
    "noisy_bknd = AerSimulator(noise_model=noise_model)\n",
    "print(noise_model)\n",
    "        \n",
    "qc_transpiled = qk.transpile(qc, noisy_bknd)\n",
    "counts = noisy_bknd.run(qc_transpiled).result().get_counts()\n",
    "plot_histogram(counts)"
   ]
  },
  {
   "cell_type": "code",
   "execution_count": null,
   "metadata": {},
   "outputs": [],
   "source": [
    "# Can you guess what this function is doing\n",
    "sum([freq * (-1) ** sum([int(x) for x in bitstring]) for bitstring, freq in counts.items()]) / sum(counts.values())"
   ]
  },
  {
   "cell_type": "code",
   "execution_count": null,
   "metadata": {},
   "outputs": [],
   "source": [
    "# Doing the same with Qiskit functions\n",
    "from qiskit.quantum_info import DensityMatrix\n",
    "\n",
    "qc_nomeas = qc.copy()\n",
    "qc_nomeas.remove_final_measurements()\n",
    "qc_nomeas.save_density_matrix()\n",
    "qc_nomeas.draw()\n",
    "\n",
    "rho = noisy_bknd.run(qc_nomeas).result().data()['density_matrix']\n",
    "rho.expectation_value(Pauli('ZZZZ'))"
   ]
  },
  {
   "cell_type": "markdown",
   "metadata": {},
   "source": [
    "# 10. An example of VQAs with Pennylane"
   ]
  },
  {
   "cell_type": "code",
   "execution_count": null,
   "metadata": {},
   "outputs": [],
   "source": [
    "import pennylane as qml\n",
    "from pennylane import numpy as np\n",
    "\n",
    "dev = qml.device('default.qubit', wires=1)"
   ]
  },
  {
   "cell_type": "code",
   "execution_count": null,
   "metadata": {},
   "outputs": [],
   "source": [
    "@qml.qnode(dev)\n",
    "def circuitRX(theta):\n",
    "    qml.RX(theta, wires=0)\n",
    "    return qml.state()\n",
    "\n",
    "# Choose a rotation angle\n",
    "theta = np.pi/2\n",
    "\n",
    "# Plot quantum circuit\n",
    "qml.draw_mpl(circuitRX)(0.5)\n",
    "\n",
    "# Action in the bloch sphere representation\n",
    "state = circuitRX(theta).numpy()\n",
    "plot_state(state)\n",
    "\n",
    "print(f\"Rx rotation with θ = {theta}\")\n",
    "print(\"|psi> = \", state)"
   ]
  },
  {
   "cell_type": "markdown",
   "metadata": {},
   "source": [
    "#### Optimization: a complete example\n",
    "Let's now build a complete example: automatically move the qubit from a starting excited state to the low energy state $|0\\rangle$. The \"energy\" of quantum system is encoded in a matrix called _Hamiltonian_, denoted with $\\mathcal{H}$. In our case, we consider an Hamiltonian $\\mathcal{H}=-Z$, where $Z$ is the Pauli matrix:\n",
    "$$\n",
    "H = -Z = -\\begin{bmatrix}1 & 0 \\\\ 0 & -1 \\end{bmatrix}\\,,\\quad |0\\rangle = \\begin{bmatrix}1 \\\\ 0 \\end{bmatrix}\\,,\\quad |1\\rangle = \\begin{bmatrix}0 \\\\ 1 \\end{bmatrix}\n",
    "$$\n",
    "The energies of the single qubit _ground state_ $|0\\rangle$ and the excited state $|1\\rangle$ are then\n",
    "$$\n",
    "\\text{Energy of state}\\,\\, |0\\rangle = E_{0} = \\langle 0 | H | 0 \\rangle = -1\n",
    "$$\n",
    "\n",
    "$$\n",
    "\\text{Energy of state}\\,\\, |1\\rangle = E_{1} = \\langle 1 | H | 1 \\rangle = 1\n",
    "$$\n",
    "\n",
    "We will now find a way to minimize the energy of a qubit automatically by gradient descent!  \n",
    "\n",
    "First, define a general circuit that uses rotations `RX` and `RY` sequentially:"
   ]
  },
  {
   "cell_type": "code",
   "execution_count": null,
   "metadata": {},
   "outputs": [],
   "source": [
    "@qml.qnode(dev)\n",
    "def energy_circuit(params):\n",
    "    qml.RX(params[0], wires=0)\n",
    "    qml.RY(params[1], wires=0)\n",
    "    return qml.expval(-1.*qml.PauliZ(0)) # <--- This is like an energy term, something that we want to minimize\n",
    "\n",
    "@qml.qnode(dev)\n",
    "def state_circuit(params):\n",
    "    qml.RX(params[0], wires=0)\n",
    "    qml.RY(params[1], wires=0)\n",
    "    return qml.state()\n",
    "\n",
    "qml.draw_mpl(energy_circuit)([0,0,0]);\n",
    "\n",
    "# Let's first generate three random initial parameters\n",
    "thetas = np.random.rand(2)\n",
    "e = energy_circuit(thetas)\n",
    "\n",
    "print(f\"θ = {thetas}\")\n",
    "print(f\"Energy(θ) = {e}\")"
   ]
  },
  {
   "cell_type": "markdown",
   "metadata": {},
   "source": [
    "With this circuit, the energy function that we are trying to minimize is \n",
    "\n",
    "$$\n",
    "|\\psi\\rangle = R_x(\\theta)R_y(\\phi)|0\\rangle \\implies \\text{Energy of}\\, |\\psi\\rangle\\, \\text{is}:\\quad E_{|\\psi\\rangle}(\\theta,\\phi) :\\,=\\langle \\psi | H | \\psi \\rangle = -\\cos(\\theta)\\cos(\\phi)\n",
    "$$\n",
    "\n",
    "Define an _optimization method_, in this case we use plain Gradient Descent:"
   ]
  },
  {
   "cell_type": "code",
   "execution_count": null,
   "metadata": {},
   "outputs": [],
   "source": [
    "opt = qml.GradientDescentOptimizer(stepsize=0.2)"
   ]
  },
  {
   "cell_type": "code",
   "execution_count": null,
   "metadata": {},
   "outputs": [],
   "source": [
    "def training_circuit(cost_function, params, **kwargs):\n",
    "    \"\"\"\n",
    "    Optimize a cost function given some initial parameters\n",
    "    \"\"\"\n",
    "\n",
    "    # Store the values of the cost function\n",
    "    energy = [cost_function(params, **kwargs)]\n",
    "\n",
    "    # Store the parameters of the circuit (the rotation angles)\n",
    "    angle = [params]\n",
    "\n",
    "    # Set some stopping criterion for the optimization\n",
    "    max_iterations = 100\n",
    "    conv_tol = 1e-08\n",
    "\n",
    "    # Optimization\n",
    "    for n in range(max_iterations):\n",
    "        # Perform a gradient descent step and obtain new parameters in the circuit\n",
    "        params, prev_energy = opt.step_and_cost(cost_function, params, **kwargs)\n",
    "\n",
    "        # Save new energy and new parameters \n",
    "        energy.append(cost_function(params, **kwargs))\n",
    "        angle.append(params)\n",
    "\n",
    "        # Check if reached convergence\n",
    "        conv = np.abs(energy[-1] - prev_energy) \n",
    "\n",
    "        # Print intermediate values\n",
    "        if n % 2 == 0:\n",
    "            print(f\"Step = {n},  Energy = {energy[-1]:.8f}\")\n",
    "\n",
    "        # Break if convergence tolerance is reached\n",
    "        if conv <= conv_tol:\n",
    "            print(\"Convergence reached.\")\n",
    "            break\n",
    "\n",
    "    print(f\"\\nFinal value of the ground-state energy = {energy[-1]:.8f}\")\n",
    "    print(f\"Optimal value of the circuit parameter = {np.round(angle[-1], 8)}\")\n",
    "\n",
    "    return energy, np.array(angle)\n",
    "\n",
    "initial_parameters = np.array([.23, 2.4], requires_grad=True)\n",
    "energy_history, params_history = training_circuit(energy_circuit, initial_parameters)"
   ]
  },
  {
   "cell_type": "code",
   "execution_count": null,
   "metadata": {},
   "outputs": [],
   "source": [
    "fig = plt.figure(figsize=(20, 5))\n",
    "\n",
    "ax1 = plt.subplot2grid((2, 4), (0, 0), colspan=1, rowspan=2)\n",
    "ax2 = plt.subplot2grid((2, 4), (0, 1))\n",
    "ax3 = plt.subplot2grid((2, 4), (1, 1))\n",
    "ax4 = plt.subplot2grid((2, 4), (0, 2), projection = '3d', rowspan=2)\n",
    "ax5 = plt.subplot2grid((2, 4), (0, 3), rowspan=2)\n",
    "\n",
    "ax1.set_title(\"Energy history\", fontsize=20)\n",
    "ax1.set_xlabel(\"Optimization step\", fontsize=12)\n",
    "ax1.set_ylabel(r\"Energy function $\\langle H \\rangle$\", fontsize=12)\n",
    "ax1.hlines(-1, 0, len(energy_history), lw=2, ls='--', color=plt.cm.coolwarm(0), label=\"True $E_{min}$\")\n",
    "ax1.plot(energy_history, ls=\"--\", marker='o', color=plt.cm.coolwarm_r(0), label=\"$E_{circuit}$\")\n",
    "ax1.legend(fontsize = 18)\n",
    "\n",
    "ax2.set_title(\"Parameters history\", fontsize=20)\n",
    "ax2.set_xticks([])\n",
    "ax2.set_ylabel(\"θ1\", fontsize=12)\n",
    "ax2.plot(params_history[:, 0])\n",
    "ax2.set_ylim(0,np.pi)\n",
    "\n",
    "ax3.set_xlabel(\"Optimization Step\", fontsize=12)\n",
    "ax3.set_ylabel(\"θ2\", fontsize=12)\n",
    "ax3.plot(params_history[:, 1])\n",
    "ax3.set_ylim(0, np.pi)\n",
    "\n",
    "states = np.array([state_circuit(p) for p in params_history])\n",
    "plot_state(states, ax=ax4)\n",
    "\n",
    "ax5.set_title(\"Energy landscape\", fontsize = 20)\n",
    "ax5.set_xlabel(\"θ1\", fontsize=12)\n",
    "ax5.set_ylabel(\"θ2\", fontsize=12)\n",
    "x = np.linspace(-np.pi, np.pi, 100)\n",
    "y = np.linspace(-np.pi, np.pi, 100)\n",
    "x, y = np.meshgrid(x, y)\n",
    "z = -np.cos(x)*np.cos(y)\n",
    "cnt = ax5.contourf(x, y, z, 100, levels=np.arange(-1, 1.1, 0.1), cmap=plt.cm.coolwarm, alpha=0.8, extend=\"both\")\n",
    "ax5.scatter(params_history[-1, 0], params_history[-1, 1], color='r', marker='X', s=200, zorder=2)\n",
    "ax5.plot(params_history[:, 0], params_history[:, 1], ls='--', marker='.', c='y', markersize=10, zorder=1)\n",
    "plt.colorbar(cnt, ticks=[-1, 0, 1])\n",
    "\n",
    "plt.tight_layout()\n",
    "plt.show()"
   ]
  },
  {
   "cell_type": "markdown",
   "metadata": {},
   "source": [
    "#### _...the end._"
   ]
  }
 ],
 "metadata": {
  "kernelspec": {
   "display_name": "qpt_env",
   "language": "python",
   "name": "python3"
  },
  "language_info": {
   "codemirror_mode": {
    "name": "ipython",
    "version": 3
   },
   "file_extension": ".py",
   "mimetype": "text/x-python",
   "name": "python",
   "nbconvert_exporter": "python",
   "pygments_lexer": "ipython3",
   "version": "3.12.3"
  }
 },
 "nbformat": 4,
 "nbformat_minor": 2
}
